{
 "cells": [
  {
   "cell_type": "code",
   "execution_count": 44,
   "metadata": {},
   "outputs": [],
   "source": [
    "import sqlite3"
   ]
  },
  {
   "cell_type": "code",
   "execution_count": 47,
   "metadata": {},
   "outputs": [
    {
     "data": {
      "text/plain": [
       "<sqlite3.Connection at 0x734fd81af100>"
      ]
     },
     "execution_count": 47,
     "metadata": {},
     "output_type": "execute_result"
    }
   ],
   "source": [
    "connection = sqlite3.connect('pets.db')\n",
    "connection"
   ]
  },
  {
   "cell_type": "code",
   "execution_count": 45,
   "metadata": {},
   "outputs": [
    {
     "data": {
      "text/plain": [
       "<sqlite3.Cursor at 0x734fbae6d0c0>"
      ]
     },
     "execution_count": 45,
     "metadata": {},
     "output_type": "execute_result"
    }
   ],
   "source": [
    "cursor= connection.cursor()\n",
    "cursor"
   ]
  },
  {
   "cell_type": "code",
   "execution_count": 48,
   "metadata": {},
   "outputs": [],
   "source": [
    "cursor.execute(\"\"\"\n",
    "    create table if not exists pets(\n",
    "        id integer primary key autoincrement,\n",
    "        name text not null,\n",
    "        type text not null,\n",
    "        age integer,\n",
    "        owner text\n",
    "    )\n",
    "\"\"\")\n",
    "connection.commit()"
   ]
  },
  {
   "cell_type": "code",
   "execution_count": 46,
   "metadata": {},
   "outputs": [],
   "source": [
    "name = \"dorothy\"\n",
    "info = \"('dorothy','dog', 9, 'greg'); delete * from pets; commit;\"\n",
    "# cursor.execute(\"\"\"\n",
    "#     insert\n",
    "#         into pets(name, type, age, owner)\n",
    "#         values ('\"\"\" + name +\"\"\"', 'dog', 9, 'hieu')\n",
    "# \"\"\")\n",
    "# cursor.execute(\"\"\"\n",
    "#     insert\n",
    "#         into pets(name, type, age, owner)\n",
    "#         values (?,?,?,?)\n",
    "# \"\"\", (name,\"dog\", 9, \"dq\"))\n",
    "\n",
    "for name in [\"diem quynh\", \"dq\"]:\n",
    "    cursor.execute(\"\"\"\n",
    "        insert\n",
    "            into pets(name, type, age, owner)\n",
    "            values (?,?,?,?)\n",
    "    \"\"\", (name,\"dog\", 9, \"dq\"))\n",
    "connection.commit()"
   ]
  },
  {
   "cell_type": "code",
   "execution_count": 54,
   "metadata": {},
   "outputs": [
    {
     "name": "stdout",
     "output_type": "stream",
     "text": [
      "(1, 'dorothy', 'dog', 9, 'hieu')\n",
      "(2, 'dorothy', 'dog', 9, 'dq')\n",
      "(3, 'diem quynh', 'dog', 11, 'dq')\n",
      "(4, 'dq', 'dog', 9, 'dq')\n"
     ]
    }
   ],
   "source": [
    "cursor.execute(\"select * from pets\")\n",
    "rows = cursor.fetchall()\n",
    "# rows = cursor.fetchone()\n",
    "for row in rows:\n",
    "    print(row)"
   ]
  },
  {
   "cell_type": "code",
   "execution_count": 53,
   "metadata": {},
   "outputs": [],
   "source": [
    "cursor.execute(\"\"\"\n",
    "    update pets\n",
    "    set age = ?\n",
    "    where name = ?\n",
    "\"\"\", (11, \"diem quynh\"))\n",
    "connection.commit()"
   ]
  },
  {
   "cell_type": "markdown",
   "metadata": {},
   "source": []
  }
 ],
 "metadata": {
  "kernelspec": {
   "display_name": "Python 3",
   "language": "python",
   "name": "python3"
  },
  "language_info": {
   "codemirror_mode": {
    "name": "ipython",
    "version": 3
   },
   "file_extension": ".py",
   "mimetype": "text/x-python",
   "name": "python",
   "nbconvert_exporter": "python",
   "pygments_lexer": "ipython3",
   "version": "3.12.1"
  }
 },
 "nbformat": 4,
 "nbformat_minor": 2
}
